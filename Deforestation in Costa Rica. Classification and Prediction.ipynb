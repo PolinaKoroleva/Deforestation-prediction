{
 "cells": [
  {
   "cell_type": "code",
   "execution_count": 1,
   "metadata": {},
   "outputs": [
    {
     "name": "stdout",
     "output_type": "stream",
     "text": [
      "Populating the interactive namespace from numpy and matplotlib\n"
     ]
    }
   ],
   "source": [
    "%pylab inline"
   ]
  },
  {
   "cell_type": "code",
   "execution_count": 2,
   "metadata": {},
   "outputs": [],
   "source": [
    "# import the libraries\n",
    "\n",
    "import pandas as pd\n",
    "import numpy as np\n",
    "from sklearn.naive_bayes import GaussianNB\n",
    "from sklearn.discriminant_analysis import QuadraticDiscriminantAnalysis as QDA\n",
    "from sklearn.discriminant_analysis import LinearDiscriminantAnalysis as LDA\n",
    "from sklearn import neighbors\n",
    "from sklearn import tree\n",
    "from sklearn.ensemble import RandomForestClassifier as RF\n",
    "from sklearn.model_selection import train_test_split\n",
    "from sklearn.metrics import confusion_matrix\n",
    "from sklearn.metrics import roc_curve, auc"
   ]
  },
  {
   "cell_type": "markdown",
   "metadata": {},
   "source": [
    "***Clean the data***"
   ]
  },
  {
   "cell_type": "code",
   "execution_count": 3,
   "metadata": {},
   "outputs": [],
   "source": [
    "# read the data and normilize it\n",
    "df=pd.read_csv('main_50k_pixels.csv',encoding='latin-1', delimiter=\";\", low_memory=False)"
   ]
  },
  {
   "cell_type": "code",
   "execution_count": 4,
   "metadata": {},
   "outputs": [
    {
     "data": {
      "text/plain": [
       "(47107, 106)"
      ]
     },
     "execution_count": 4,
     "metadata": {},
     "output_type": "execute_result"
    }
   ],
   "source": [
    "df.shape"
   ]
  },
  {
   "cell_type": "code",
   "execution_count": 5,
   "metadata": {},
   "outputs": [],
   "source": [
    "del df['luc']"
   ]
  },
  {
   "cell_type": "code",
   "execution_count": 6,
   "metadata": {},
   "outputs": [
    {
     "name": "stderr",
     "output_type": "stream",
     "text": [
      "/Users/polina/anaconda3/lib/python3.6/site-packages/ipykernel_launcher.py:1: FutureWarning: convert_objects is deprecated.  To re-infer data dtypes for object columns, use DataFrame.infer_objects()\n",
      "For all other conversions use the data-type specific converters pd.to_datetime, pd.to_timedelta and pd.to_numeric.\n",
      "  \"\"\"Entry point for launching an IPython kernel.\n"
     ]
    }
   ],
   "source": [
    "df_norm=df.convert_objects(convert_numeric=True).apply(lambda x: (x-x.min())/np.ptp(x)).dropna(how='any', axis=0)"
   ]
  },
  {
   "cell_type": "code",
   "execution_count": 7,
   "metadata": {},
   "outputs": [
    {
     "data": {
      "text/plain": [
       "(39778, 105)"
      ]
     },
     "execution_count": 7,
     "metadata": {},
     "output_type": "execute_result"
    }
   ],
   "source": [
    "df_norm.shape"
   ]
  },
  {
   "cell_type": "markdown",
   "metadata": {},
   "source": [
    "###df.columns.tolist()"
   ]
  },
  {
   "cell_type": "code",
   "execution_count": 8,
   "metadata": {},
   "outputs": [],
   "source": [
    "# create 3 subsets for different years\n",
    "df1=df_norm[df_norm.columns.drop(list(df_norm.filter(regex='id2|Unnamed: 0|pobtot1973|vivocupada1973|2000|dfedge.86|dfedge.97|for.86|for.97|pro.aft80per|popgrowth')))]\n",
    "df2=df_norm[df_norm.columns.drop(list(df_norm.filter(regex='id2|Unnamed: 0|pobtot1973|vivocupada1973|2000|dfedge.60|dfedge.97|for.60|for.97|pro.aft80per|popgrowth')))]\n",
    "df3=df_norm[df_norm.columns.drop(list(df_norm.filter(regex='id2|Unnamed: 0|poptot2000|pobtot1973|empty.2000|pop.2000|73|1960|dfedge.60|dfedge.86|for.60|for.86|pro.bef80per|pro.before2000per|popgrowth')))]"
   ]
  },
  {
   "cell_type": "code",
   "execution_count": 9,
   "metadata": {
    "scrolled": true
   },
   "outputs": [
    {
     "name": "stdout",
     "output_type": "stream",
     "text": [
      "(39778, 55)\n",
      "(39778, 55)\n",
      "(39778, 55)\n"
     ]
    }
   ],
   "source": [
    "print(df1.shape)\n",
    "print(df2.shape)\n",
    "print(df3.shape)"
   ]
  },
  {
   "cell_type": "code",
   "execution_count": 10,
   "metadata": {},
   "outputs": [],
   "source": [
    "F1 = df1['for.60']\n",
    "F2 = df2['for.86']\n",
    "F3 = df3['for.97']"
   ]
  },
  {
   "cell_type": "code",
   "execution_count": 11,
   "metadata": {},
   "outputs": [
    {
     "data": {
      "text/plain": [
       "23291"
      ]
     },
     "execution_count": 11,
     "metadata": {},
     "output_type": "execute_result"
    }
   ],
   "source": [
    "(df1['for.60'] != 0).sum()"
   ]
  },
  {
   "cell_type": "code",
   "execution_count": 12,
   "metadata": {},
   "outputs": [
    {
     "data": {
      "text/plain": [
       "16487"
      ]
     },
     "execution_count": 12,
     "metadata": {},
     "output_type": "execute_result"
    }
   ],
   "source": [
    "(df1['for.60'] != 1).sum()"
   ]
  },
  {
   "cell_type": "code",
   "execution_count": 13,
   "metadata": {},
   "outputs": [
    {
     "data": {
      "text/plain": [
       "17589"
      ]
     },
     "execution_count": 13,
     "metadata": {},
     "output_type": "execute_result"
    }
   ],
   "source": [
    "(df2['for.86'] != 0).sum()"
   ]
  },
  {
   "cell_type": "code",
   "execution_count": 14,
   "metadata": {},
   "outputs": [
    {
     "data": {
      "text/plain": [
       "22189"
      ]
     },
     "execution_count": 14,
     "metadata": {},
     "output_type": "execute_result"
    }
   ],
   "source": [
    "(df2['for.86'] != 1).sum()"
   ]
  },
  {
   "cell_type": "code",
   "execution_count": 15,
   "metadata": {},
   "outputs": [
    {
     "data": {
      "text/plain": [
       "21100"
      ]
     },
     "execution_count": 15,
     "metadata": {},
     "output_type": "execute_result"
    }
   ],
   "source": [
    "(df3['for.97'] != 1).sum()"
   ]
  },
  {
   "cell_type": "code",
   "execution_count": 16,
   "metadata": {},
   "outputs": [
    {
     "data": {
      "text/plain": [
       "18678"
      ]
     },
     "execution_count": 16,
     "metadata": {},
     "output_type": "execute_result"
    }
   ],
   "source": [
    "(df3['for.97'] != 0).sum()"
   ]
  },
  {
   "cell_type": "code",
   "execution_count": 17,
   "metadata": {},
   "outputs": [
    {
     "name": "stderr",
     "output_type": "stream",
     "text": [
      "/Users/polina/anaconda3/lib/python3.6/site-packages/pandas/core/frame.py:3694: SettingWithCopyWarning: \n",
      "A value is trying to be set on a copy of a slice from a DataFrame\n",
      "\n",
      "See the caveats in the documentation: http://pandas.pydata.org/pandas-docs/stable/indexing.html#indexing-view-versus-copy\n",
      "  errors=errors)\n"
     ]
    }
   ],
   "source": [
    "# Rearrange the data to have predictor as a first column\n",
    "df1.drop(labels=['for.60'], axis=1,inplace = True)\n",
    "df1.insert(0, 'for.60', F1)\n",
    "df2.drop(labels=['for.86'], axis=1,inplace = True)\n",
    "df2.insert(0, 'for.86', F2)\n",
    "df3.drop(labels=['for.97'], axis=1,inplace = True)\n",
    "df3.insert(0, 'for.97', F3)"
   ]
  },
  {
   "cell_type": "code",
   "execution_count": 18,
   "metadata": {},
   "outputs": [
    {
     "name": "stdout",
     "output_type": "stream",
     "text": [
      "(39778, 55)\n",
      "(39778, 55)\n",
      "(39778, 55)\n"
     ]
    }
   ],
   "source": [
    "print(df1.shape)\n",
    "print(df2.shape)\n",
    "print(df3.shape)"
   ]
  },
  {
   "cell_type": "code",
   "execution_count": 19,
   "metadata": {},
   "outputs": [
    {
     "data": {
      "text/html": [
       "<div>\n",
       "<style scoped>\n",
       "    .dataframe tbody tr th:only-of-type {\n",
       "        vertical-align: middle;\n",
       "    }\n",
       "\n",
       "    .dataframe tbody tr th {\n",
       "        vertical-align: top;\n",
       "    }\n",
       "\n",
       "    .dataframe thead th {\n",
       "        text-align: right;\n",
       "    }\n",
       "</style>\n",
       "<table border=\"1\" class=\"dataframe\">\n",
       "  <thead>\n",
       "    <tr style=\"text-align: right;\">\n",
       "      <th></th>\n",
       "      <th>Unnamed: 0</th>\n",
       "      <th>id2</th>\n",
       "      <th>dmcity</th>\n",
       "      <th>drd</th>\n",
       "      <th>drd.00</th>\n",
       "      <th>dfedge.60</th>\n",
       "      <th>dfedge.86</th>\n",
       "      <th>dfedge.97</th>\n",
       "      <th>for.60</th>\n",
       "      <th>for.86</th>\n",
       "      <th>...</th>\n",
       "      <th>nowashmach.v73</th>\n",
       "      <th>nohotwater.v73</th>\n",
       "      <th>clpovindex73</th>\n",
       "      <th>empty.2000</th>\n",
       "      <th>popden73</th>\n",
       "      <th>popden2000</th>\n",
       "      <th>pro.bef80per</th>\n",
       "      <th>pro.before2000per</th>\n",
       "      <th>pro.aft80per</th>\n",
       "      <th>popgrowth</th>\n",
       "    </tr>\n",
       "  </thead>\n",
       "  <tbody>\n",
       "    <tr>\n",
       "      <th>0</th>\n",
       "      <td>1</td>\n",
       "      <td>2</td>\n",
       "      <td>215.660624</td>\n",
       "      <td>1.046074621</td>\n",
       "      <td>41.690693339</td>\n",
       "      <td>0</td>\n",
       "      <td>0.000000</td>\n",
       "      <td>0.000000</td>\n",
       "      <td>0</td>\n",
       "      <td>0</td>\n",
       "      <td>...</td>\n",
       "      <td>1.197336</td>\n",
       "      <td>0.451949</td>\n",
       "      <td>19.144095</td>\n",
       "      <td>0</td>\n",
       "      <td>0.006655</td>\n",
       "      <td>0.005788</td>\n",
       "      <td>0.0</td>\n",
       "      <td>0.0</td>\n",
       "      <td>0.0</td>\n",
       "      <td>-0.130186</td>\n",
       "    </tr>\n",
       "    <tr>\n",
       "      <th>1</th>\n",
       "      <td>2</td>\n",
       "      <td>3</td>\n",
       "      <td>214.936769</td>\n",
       "      <td>1.069688656</td>\n",
       "      <td>41.047379397</td>\n",
       "      <td>0</td>\n",
       "      <td>0.249854</td>\n",
       "      <td>0.181332</td>\n",
       "      <td>0</td>\n",
       "      <td>1</td>\n",
       "      <td>...</td>\n",
       "      <td>1.197336</td>\n",
       "      <td>0.451949</td>\n",
       "      <td>19.144095</td>\n",
       "      <td>0</td>\n",
       "      <td>0.006655</td>\n",
       "      <td>0.005788</td>\n",
       "      <td>0.0</td>\n",
       "      <td>0.0</td>\n",
       "      <td>0.0</td>\n",
       "      <td>-0.130186</td>\n",
       "    </tr>\n",
       "    <tr>\n",
       "      <th>2</th>\n",
       "      <td>3</td>\n",
       "      <td>4</td>\n",
       "      <td>214.804967</td>\n",
       "      <td>0.34683503</td>\n",
       "      <td>40.778031978</td>\n",
       "      <td>0.425272624</td>\n",
       "      <td>0.000000</td>\n",
       "      <td>0.000000</td>\n",
       "      <td>1</td>\n",
       "      <td>0</td>\n",
       "      <td>...</td>\n",
       "      <td>1.197336</td>\n",
       "      <td>0.451949</td>\n",
       "      <td>19.144095</td>\n",
       "      <td>0</td>\n",
       "      <td>0.006655</td>\n",
       "      <td>0.005788</td>\n",
       "      <td>0.0</td>\n",
       "      <td>0.0</td>\n",
       "      <td>0.0</td>\n",
       "      <td>-0.130186</td>\n",
       "    </tr>\n",
       "    <tr>\n",
       "      <th>3</th>\n",
       "      <td>4</td>\n",
       "      <td>5</td>\n",
       "      <td>213.683042</td>\n",
       "      <td>1.273659945</td>\n",
       "      <td>39.970183179</td>\n",
       "      <td>0</td>\n",
       "      <td>0.000000</td>\n",
       "      <td>0.000000</td>\n",
       "      <td>0</td>\n",
       "      <td>0</td>\n",
       "      <td>...</td>\n",
       "      <td>1.197336</td>\n",
       "      <td>0.451949</td>\n",
       "      <td>19.144095</td>\n",
       "      <td>0</td>\n",
       "      <td>0.006655</td>\n",
       "      <td>0.005788</td>\n",
       "      <td>0.0</td>\n",
       "      <td>0.0</td>\n",
       "      <td>0.0</td>\n",
       "      <td>-0.130186</td>\n",
       "    </tr>\n",
       "    <tr>\n",
       "      <th>4</th>\n",
       "      <td>5</td>\n",
       "      <td>7</td>\n",
       "      <td>211.857902</td>\n",
       "      <td>1.473443172</td>\n",
       "      <td>38.060196214</td>\n",
       "      <td>0.567785892</td>\n",
       "      <td>0.000000</td>\n",
       "      <td>0.000000</td>\n",
       "      <td>1</td>\n",
       "      <td>0</td>\n",
       "      <td>...</td>\n",
       "      <td>1.197336</td>\n",
       "      <td>0.451949</td>\n",
       "      <td>19.144095</td>\n",
       "      <td>0</td>\n",
       "      <td>0.006655</td>\n",
       "      <td>0.005788</td>\n",
       "      <td>0.0</td>\n",
       "      <td>0.0</td>\n",
       "      <td>0.0</td>\n",
       "      <td>-0.130186</td>\n",
       "    </tr>\n",
       "    <tr>\n",
       "      <th>5</th>\n",
       "      <td>6</td>\n",
       "      <td>8</td>\n",
       "      <td>210.391826</td>\n",
       "      <td>3.183088443</td>\n",
       "      <td>36.840773815</td>\n",
       "      <td>0</td>\n",
       "      <td>0.000000</td>\n",
       "      <td>0.004876</td>\n",
       "      <td>0</td>\n",
       "      <td>0</td>\n",
       "      <td>...</td>\n",
       "      <td>1.197336</td>\n",
       "      <td>0.451949</td>\n",
       "      <td>19.144095</td>\n",
       "      <td>0</td>\n",
       "      <td>0.006655</td>\n",
       "      <td>0.005788</td>\n",
       "      <td>0.0</td>\n",
       "      <td>0.0</td>\n",
       "      <td>0.0</td>\n",
       "      <td>-0.130186</td>\n",
       "    </tr>\n",
       "    <tr>\n",
       "      <th>6</th>\n",
       "      <td>7</td>\n",
       "      <td>9</td>\n",
       "      <td>209.751027</td>\n",
       "      <td>3.624470173</td>\n",
       "      <td>36.12419624</td>\n",
       "      <td>0</td>\n",
       "      <td>0.000000</td>\n",
       "      <td>0.065359</td>\n",
       "      <td>0</td>\n",
       "      <td>0</td>\n",
       "      <td>...</td>\n",
       "      <td>1.197336</td>\n",
       "      <td>0.451949</td>\n",
       "      <td>19.144095</td>\n",
       "      <td>0</td>\n",
       "      <td>0.006655</td>\n",
       "      <td>0.005788</td>\n",
       "      <td>0.0</td>\n",
       "      <td>0.0</td>\n",
       "      <td>0.0</td>\n",
       "      <td>-0.130186</td>\n",
       "    </tr>\n",
       "    <tr>\n",
       "      <th>7</th>\n",
       "      <td>8</td>\n",
       "      <td>10</td>\n",
       "      <td>208.630432</td>\n",
       "      <td>4.695570655</td>\n",
       "      <td>35.027658264</td>\n",
       "      <td>0.71487222</td>\n",
       "      <td>0.000000</td>\n",
       "      <td>0.140736</td>\n",
       "      <td>1</td>\n",
       "      <td>0</td>\n",
       "      <td>...</td>\n",
       "      <td>1.197336</td>\n",
       "      <td>0.451949</td>\n",
       "      <td>19.144095</td>\n",
       "      <td>0</td>\n",
       "      <td>0.006655</td>\n",
       "      <td>0.005788</td>\n",
       "      <td>0.0</td>\n",
       "      <td>0.0</td>\n",
       "      <td>0.0</td>\n",
       "      <td>-0.130186</td>\n",
       "    </tr>\n",
       "    <tr>\n",
       "      <th>8</th>\n",
       "      <td>9</td>\n",
       "      <td>11</td>\n",
       "      <td>207.975116</td>\n",
       "      <td>5.234155455</td>\n",
       "      <td>34.128782699</td>\n",
       "      <td>0.004187869</td>\n",
       "      <td>0.000000</td>\n",
       "      <td>0.027546</td>\n",
       "      <td>1</td>\n",
       "      <td>0</td>\n",
       "      <td>...</td>\n",
       "      <td>1.197336</td>\n",
       "      <td>0.451949</td>\n",
       "      <td>19.144095</td>\n",
       "      <td>0</td>\n",
       "      <td>0.006655</td>\n",
       "      <td>0.005788</td>\n",
       "      <td>0.0</td>\n",
       "      <td>0.0</td>\n",
       "      <td>0.0</td>\n",
       "      <td>-0.130186</td>\n",
       "    </tr>\n",
       "    <tr>\n",
       "      <th>9</th>\n",
       "      <td>10</td>\n",
       "      <td>12</td>\n",
       "      <td>205.295858</td>\n",
       "      <td>8.076012084</td>\n",
       "      <td>31.182689665</td>\n",
       "      <td>0.036455273</td>\n",
       "      <td>0.017961</td>\n",
       "      <td>0.055610</td>\n",
       "      <td>1</td>\n",
       "      <td>1</td>\n",
       "      <td>...</td>\n",
       "      <td>1.197336</td>\n",
       "      <td>0.451949</td>\n",
       "      <td>19.144095</td>\n",
       "      <td>0</td>\n",
       "      <td>0.006655</td>\n",
       "      <td>0.005788</td>\n",
       "      <td>0.0</td>\n",
       "      <td>0.0</td>\n",
       "      <td>0.0</td>\n",
       "      <td>-0.130186</td>\n",
       "    </tr>\n",
       "    <tr>\n",
       "      <th>10</th>\n",
       "      <td>11</td>\n",
       "      <td>13</td>\n",
       "      <td>204.254392</td>\n",
       "      <td>9.002305693</td>\n",
       "      <td>30.313875134</td>\n",
       "      <td>0.362392434</td>\n",
       "      <td>0.000000</td>\n",
       "      <td>0.206379</td>\n",
       "      <td>1</td>\n",
       "      <td>0</td>\n",
       "      <td>...</td>\n",
       "      <td>1.197336</td>\n",
       "      <td>0.451949</td>\n",
       "      <td>19.144095</td>\n",
       "      <td>0</td>\n",
       "      <td>0.006655</td>\n",
       "      <td>0.005788</td>\n",
       "      <td>0.0</td>\n",
       "      <td>0.0</td>\n",
       "      <td>0.0</td>\n",
       "      <td>-0.130186</td>\n",
       "    </tr>\n",
       "    <tr>\n",
       "      <th>11</th>\n",
       "      <td>12</td>\n",
       "      <td>14</td>\n",
       "      <td>203.018306</td>\n",
       "      <td>10.193577609</td>\n",
       "      <td>29.277353786</td>\n",
       "      <td>0</td>\n",
       "      <td>0.000000</td>\n",
       "      <td>0.000000</td>\n",
       "      <td>0</td>\n",
       "      <td>0</td>\n",
       "      <td>...</td>\n",
       "      <td>1.197336</td>\n",
       "      <td>0.451949</td>\n",
       "      <td>19.144095</td>\n",
       "      <td>0</td>\n",
       "      <td>0.006655</td>\n",
       "      <td>0.005788</td>\n",
       "      <td>0.0</td>\n",
       "      <td>0.0</td>\n",
       "      <td>0.0</td>\n",
       "      <td>-0.130186</td>\n",
       "    </tr>\n",
       "    <tr>\n",
       "      <th>12</th>\n",
       "      <td>13</td>\n",
       "      <td>15</td>\n",
       "      <td>202.788621</td>\n",
       "      <td>10.420456861</td>\n",
       "      <td>29.14332995</td>\n",
       "      <td>0</td>\n",
       "      <td>0.000000</td>\n",
       "      <td>0.120687</td>\n",
       "      <td>0</td>\n",
       "      <td>0</td>\n",
       "      <td>...</td>\n",
       "      <td>1.197336</td>\n",
       "      <td>0.451949</td>\n",
       "      <td>19.144095</td>\n",
       "      <td>0</td>\n",
       "      <td>0.006655</td>\n",
       "      <td>0.005788</td>\n",
       "      <td>0.0</td>\n",
       "      <td>0.0</td>\n",
       "      <td>0.0</td>\n",
       "      <td>-0.130186</td>\n",
       "    </tr>\n",
       "    <tr>\n",
       "      <th>13</th>\n",
       "      <td>14</td>\n",
       "      <td>16</td>\n",
       "      <td>202.669823</td>\n",
       "      <td>10.593040587</td>\n",
       "      <td>28.740638317</td>\n",
       "      <td>0.731700205</td>\n",
       "      <td>0.000000</td>\n",
       "      <td>0.111716</td>\n",
       "      <td>1</td>\n",
       "      <td>0</td>\n",
       "      <td>...</td>\n",
       "      <td>1.197336</td>\n",
       "      <td>0.451949</td>\n",
       "      <td>19.144095</td>\n",
       "      <td>0</td>\n",
       "      <td>0.006655</td>\n",
       "      <td>0.005788</td>\n",
       "      <td>0.0</td>\n",
       "      <td>0.0</td>\n",
       "      <td>0.0</td>\n",
       "      <td>-0.130186</td>\n",
       "    </tr>\n",
       "    <tr>\n",
       "      <th>14</th>\n",
       "      <td>15</td>\n",
       "      <td>17</td>\n",
       "      <td>202.375049</td>\n",
       "      <td>10.838630944</td>\n",
       "      <td>28.63748244</td>\n",
       "      <td>0.055289811</td>\n",
       "      <td>0.000000</td>\n",
       "      <td>0.000000</td>\n",
       "      <td>1</td>\n",
       "      <td>0</td>\n",
       "      <td>...</td>\n",
       "      <td>1.197336</td>\n",
       "      <td>0.451949</td>\n",
       "      <td>19.144095</td>\n",
       "      <td>0</td>\n",
       "      <td>0.006655</td>\n",
       "      <td>0.005788</td>\n",
       "      <td>0.0</td>\n",
       "      <td>0.0</td>\n",
       "      <td>0.0</td>\n",
       "      <td>-0.130186</td>\n",
       "    </tr>\n",
       "  </tbody>\n",
       "</table>\n",
       "<p>15 rows × 105 columns</p>\n",
       "</div>"
      ],
      "text/plain": [
       "    Unnamed: 0  id2      dmcity           drd        drd.00    dfedge.60  \\\n",
       "0            1    2  215.660624   1.046074621  41.690693339            0   \n",
       "1            2    3  214.936769   1.069688656  41.047379397            0   \n",
       "2            3    4  214.804967    0.34683503  40.778031978  0.425272624   \n",
       "3            4    5  213.683042   1.273659945  39.970183179            0   \n",
       "4            5    7  211.857902   1.473443172  38.060196214  0.567785892   \n",
       "5            6    8  210.391826   3.183088443  36.840773815            0   \n",
       "6            7    9  209.751027   3.624470173   36.12419624            0   \n",
       "7            8   10  208.630432   4.695570655  35.027658264   0.71487222   \n",
       "8            9   11  207.975116   5.234155455  34.128782699  0.004187869   \n",
       "9           10   12  205.295858   8.076012084  31.182689665  0.036455273   \n",
       "10          11   13  204.254392   9.002305693  30.313875134  0.362392434   \n",
       "11          12   14  203.018306  10.193577609  29.277353786            0   \n",
       "12          13   15  202.788621  10.420456861   29.14332995            0   \n",
       "13          14   16  202.669823  10.593040587  28.740638317  0.731700205   \n",
       "14          15   17  202.375049  10.838630944   28.63748244  0.055289811   \n",
       "\n",
       "    dfedge.86  dfedge.97  for.60  for.86    ...      nowashmach.v73  \\\n",
       "0    0.000000   0.000000       0       0    ...            1.197336   \n",
       "1    0.249854   0.181332       0       1    ...            1.197336   \n",
       "2    0.000000   0.000000       1       0    ...            1.197336   \n",
       "3    0.000000   0.000000       0       0    ...            1.197336   \n",
       "4    0.000000   0.000000       1       0    ...            1.197336   \n",
       "5    0.000000   0.004876       0       0    ...            1.197336   \n",
       "6    0.000000   0.065359       0       0    ...            1.197336   \n",
       "7    0.000000   0.140736       1       0    ...            1.197336   \n",
       "8    0.000000   0.027546       1       0    ...            1.197336   \n",
       "9    0.017961   0.055610       1       1    ...            1.197336   \n",
       "10   0.000000   0.206379       1       0    ...            1.197336   \n",
       "11   0.000000   0.000000       0       0    ...            1.197336   \n",
       "12   0.000000   0.120687       0       0    ...            1.197336   \n",
       "13   0.000000   0.111716       1       0    ...            1.197336   \n",
       "14   0.000000   0.000000       1       0    ...            1.197336   \n",
       "\n",
       "    nohotwater.v73  clpovindex73  empty.2000  popden73  popden2000  \\\n",
       "0         0.451949     19.144095           0  0.006655    0.005788   \n",
       "1         0.451949     19.144095           0  0.006655    0.005788   \n",
       "2         0.451949     19.144095           0  0.006655    0.005788   \n",
       "3         0.451949     19.144095           0  0.006655    0.005788   \n",
       "4         0.451949     19.144095           0  0.006655    0.005788   \n",
       "5         0.451949     19.144095           0  0.006655    0.005788   \n",
       "6         0.451949     19.144095           0  0.006655    0.005788   \n",
       "7         0.451949     19.144095           0  0.006655    0.005788   \n",
       "8         0.451949     19.144095           0  0.006655    0.005788   \n",
       "9         0.451949     19.144095           0  0.006655    0.005788   \n",
       "10        0.451949     19.144095           0  0.006655    0.005788   \n",
       "11        0.451949     19.144095           0  0.006655    0.005788   \n",
       "12        0.451949     19.144095           0  0.006655    0.005788   \n",
       "13        0.451949     19.144095           0  0.006655    0.005788   \n",
       "14        0.451949     19.144095           0  0.006655    0.005788   \n",
       "\n",
       "    pro.bef80per  pro.before2000per  pro.aft80per  popgrowth  \n",
       "0            0.0                0.0           0.0  -0.130186  \n",
       "1            0.0                0.0           0.0  -0.130186  \n",
       "2            0.0                0.0           0.0  -0.130186  \n",
       "3            0.0                0.0           0.0  -0.130186  \n",
       "4            0.0                0.0           0.0  -0.130186  \n",
       "5            0.0                0.0           0.0  -0.130186  \n",
       "6            0.0                0.0           0.0  -0.130186  \n",
       "7            0.0                0.0           0.0  -0.130186  \n",
       "8            0.0                0.0           0.0  -0.130186  \n",
       "9            0.0                0.0           0.0  -0.130186  \n",
       "10           0.0                0.0           0.0  -0.130186  \n",
       "11           0.0                0.0           0.0  -0.130186  \n",
       "12           0.0                0.0           0.0  -0.130186  \n",
       "13           0.0                0.0           0.0  -0.130186  \n",
       "14           0.0                0.0           0.0  -0.130186  \n",
       "\n",
       "[15 rows x 105 columns]"
      ]
     },
     "execution_count": 19,
     "metadata": {},
     "output_type": "execute_result"
    }
   ],
   "source": [
    "df.head(15)\n"
   ]
  },
  {
   "cell_type": "markdown",
   "metadata": {},
   "source": [
    "***Classification***"
   ]
  },
  {
   "cell_type": "code",
   "execution_count": 20,
   "metadata": {},
   "outputs": [],
   "source": [
    "# Choose the classification methods\n",
    "\n",
    "X1 = df1.values\n",
    "X2 = df2.values\n",
    "X3 = df3.values\n",
    "\n",
    "gnb = GaussianNB()\n",
    "qda = QDA()\n",
    "lda = LDA()\n",
    "knn = neighbors.KNeighborsClassifier(n_neighbors = 3)\n",
    "dt = tree.DecisionTreeClassifier(criterion= 'gini', max_depth= None)\n",
    "rf = RF(criterion= 'gini')\n",
    "\n",
    "names = ['GaussianNB', 'QDA', 'LDA', 'kNN','Decision Tree','Random Forest']\n",
    "classifiers = [gnb, qda, lda, knn, dt, rf]"
   ]
  },
  {
   "cell_type": "code",
   "execution_count": 21,
   "metadata": {},
   "outputs": [
    {
     "name": "stdout",
     "output_type": "stream",
     "text": [
      "(39778, 55)\n"
     ]
    }
   ],
   "source": [
    "print(X1.shape)"
   ]
  },
  {
   "cell_type": "code",
   "execution_count": 22,
   "metadata": {},
   "outputs": [
    {
     "name": "stdout",
     "output_type": "stream",
     "text": [
      "GaussianNB -- Number of mislabeled points out of total 13127 points: 1073\n",
      "QDA -- Number of mislabeled points out of total 13127 points: 1198\n"
     ]
    },
    {
     "name": "stderr",
     "output_type": "stream",
     "text": [
      "/Users/polina/anaconda3/lib/python3.6/site-packages/sklearn/discriminant_analysis.py:682: UserWarning: Variables are collinear\n",
      "  warnings.warn(\"Variables are collinear\")\n",
      "/Users/polina/anaconda3/lib/python3.6/site-packages/sklearn/discriminant_analysis.py:388: UserWarning: Variables are collinear.\n",
      "  warnings.warn(\"Variables are collinear.\")\n"
     ]
    },
    {
     "name": "stdout",
     "output_type": "stream",
     "text": [
      "LDA -- Number of mislabeled points out of total 13127 points: 1852\n",
      "kNN -- Number of mislabeled points out of total 13127 points: 1822\n",
      "Decision Tree -- Number of mislabeled points out of total 13127 points: 1\n",
      "Random Forest -- Number of mislabeled points out of total 13127 points: 14\n",
      "\n",
      "GaussianNB -- Number of mislabeled points out of total 13127 points: 1839\n",
      "QDA -- Number of mislabeled points out of total 13127 points: 2442\n",
      "LDA -- Number of mislabeled points out of total 13127 points: 3052\n"
     ]
    },
    {
     "name": "stderr",
     "output_type": "stream",
     "text": [
      "/Users/polina/anaconda3/lib/python3.6/site-packages/sklearn/discriminant_analysis.py:682: UserWarning: Variables are collinear\n",
      "  warnings.warn(\"Variables are collinear\")\n",
      "/Users/polina/anaconda3/lib/python3.6/site-packages/sklearn/discriminant_analysis.py:388: UserWarning: Variables are collinear.\n",
      "  warnings.warn(\"Variables are collinear.\")\n"
     ]
    },
    {
     "name": "stdout",
     "output_type": "stream",
     "text": [
      "kNN -- Number of mislabeled points out of total 13127 points: 2684\n",
      "Decision Tree -- Number of mislabeled points out of total 13127 points: 0\n",
      "Random Forest -- Number of mislabeled points out of total 13127 points: 32\n",
      "\n",
      "GaussianNB -- Number of mislabeled points out of total 13127 points: 728\n",
      "QDA -- Number of mislabeled points out of total 13127 points: 89\n"
     ]
    },
    {
     "name": "stderr",
     "output_type": "stream",
     "text": [
      "/Users/polina/anaconda3/lib/python3.6/site-packages/sklearn/discriminant_analysis.py:682: UserWarning: Variables are collinear\n",
      "  warnings.warn(\"Variables are collinear\")\n",
      "/Users/polina/anaconda3/lib/python3.6/site-packages/sklearn/discriminant_analysis.py:388: UserWarning: Variables are collinear.\n",
      "  warnings.warn(\"Variables are collinear.\")\n"
     ]
    },
    {
     "name": "stdout",
     "output_type": "stream",
     "text": [
      "LDA -- Number of mislabeled points out of total 13127 points: 3142\n",
      "kNN -- Number of mislabeled points out of total 13127 points: 2847\n",
      "Decision Tree -- Number of mislabeled points out of total 13127 points: 0\n",
      "Random Forest -- Number of mislabeled points out of total 13127 points: 19\n"
     ]
    }
   ],
   "source": [
    "# Classification within the same year \n",
    "X_train1, X_test1, y_train1, y_test1 = train_test_split(X1[:,1:54], X1[:,0], test_size=0.33,random_state=1)\n",
    "                                                           \n",
    "X_train2, X_test2, y_train2, y_test2 = train_test_split(X2[:,1:54], X2[:,0], test_size=0.33,random_state=1)\n",
    "X_train3, X_test3, y_train3, y_test3 = train_test_split(X3[:,1:54], X3[:,0], test_size=0.33,random_state=1)\n",
    "\n",
    "for name, classifier in zip(names, classifiers):\n",
    "    classifier.fit(X_train1, y_train1)\n",
    "    pred1 = classifier.predict(X_test1)\n",
    "    print('{} -- Number of mislabeled points out of total {} points: {}'.format(name, len(y_test1), (pred1 != y_test1).sum()))\n",
    "print()\n",
    "for name, classifier in zip(names, classifiers):\n",
    "    classifier.fit(X_train2, y_train2)\n",
    "    pred2 = classifier.predict(X_test2)\n",
    "    print('{} -- Number of mislabeled points out of total {} points: {}'.format(name, len(y_test2), (pred2 != y_test2).sum()))\n",
    "print()\n",
    "for name, classifier in zip(names, classifiers):\n",
    "    classifier.fit(X_train3, y_train3)\n",
    "    pred3 = classifier.predict(X_test3)\n",
    "    print('{} -- Number of mislabeled points out of total {} points: {}'.format(name, len(y_test3), (pred3 != y_test3).sum()))"
   ]
  },
  {
   "cell_type": "code",
   "execution_count": 23,
   "metadata": {},
   "outputs": [
    {
     "name": "stdout",
     "output_type": "stream",
     "text": [
      "[[5385    0]\n",
      " [  14 7728]]\n",
      "Predicted\n",
      "Error Rate = 0.11%\n",
      "[[7216    0]\n",
      " [  32 5879]]\n",
      "Predicted\n",
      "Error Rate = 0.24%\n",
      "[[6921    0]\n",
      " [  19 6187]]\n",
      "Predicted\n",
      "Error Rate = 0.14%\n"
     ]
    }
   ],
   "source": [
    "# Confusion matrix and prediction rate\n",
    "from sklearn.metrics import confusion_matrix\n",
    "print(confusion_matrix (y_test1,pred1))\n",
    "print ('Predicted\\nError Rate = {:0.2f}%'.format((pred1 != y_test1).sum()*100/len(y_test1)))\n",
    "print(confusion_matrix (y_test2,pred2))\n",
    "print ('Predicted\\nError Rate = {:0.2f}%'.format((pred2 != y_test2).sum()*100/len(y_test2)))\n",
    "print(confusion_matrix (y_test3,pred3))\n",
    "print ('Predicted\\nError Rate = {:0.2f}%'.format((pred3 != y_test3).sum()*100/len(y_test3)))"
   ]
  },
  {
   "cell_type": "markdown",
   "metadata": {},
   "source": [
    "***Prediction***"
   ]
  },
  {
   "cell_type": "markdown",
   "metadata": {},
   "source": [
    "*Prediction of 1980 using 1960*"
   ]
  },
  {
   "cell_type": "code",
   "execution_count": 24,
   "metadata": {},
   "outputs": [
    {
     "name": "stdout",
     "output_type": "stream",
     "text": [
      "GaussianNB -- Number of mislabeled points out of total 13127 points: 4755\n",
      "QDA -- Number of mislabeled points out of total 13127 points: 3739\n",
      "LDA -- Number of mislabeled points out of total 13127 points: 3204\n"
     ]
    },
    {
     "name": "stderr",
     "output_type": "stream",
     "text": [
      "/Users/polina/anaconda3/lib/python3.6/site-packages/sklearn/discriminant_analysis.py:682: UserWarning: Variables are collinear\n",
      "  warnings.warn(\"Variables are collinear\")\n",
      "/Users/polina/anaconda3/lib/python3.6/site-packages/sklearn/discriminant_analysis.py:388: UserWarning: Variables are collinear.\n",
      "  warnings.warn(\"Variables are collinear.\")\n"
     ]
    },
    {
     "name": "stdout",
     "output_type": "stream",
     "text": [
      "kNN -- Number of mislabeled points out of total 13127 points: 2719\n",
      "Decision Tree -- Number of mislabeled points out of total 13127 points: 3201\n",
      "Random Forest -- Number of mislabeled points out of total 13127 points: 2665\n",
      "\n"
     ]
    }
   ],
   "source": [
    "# Prediction of 1980 using 1960\n",
    "X_train, X_test, y_train, y_test = train_test_split(X1[:,1:54], X2[:,0], test_size=0.33,random_state=1)\n",
    "                                                           \n",
    "\n",
    "\n",
    "for name, classifier in zip(names, classifiers):\n",
    "    classifier.fit(X_train, y_train)\n",
    "    pred = classifier.predict(X_test)\n",
    "    print('{} -- Number of mislabeled points out of total {} points: {}'.format(name, len(y_test), (pred != y_test).sum()))\n",
    "print()\n"
   ]
  },
  {
   "cell_type": "code",
   "execution_count": 25,
   "metadata": {},
   "outputs": [
    {
     "name": "stdout",
     "output_type": "stream",
     "text": [
      "Predicted\n",
      "Error Rate = 20.30%\n",
      "[[6228  988]\n",
      " [1677 4234]]\n"
     ]
    }
   ],
   "source": [
    "print ('Predicted\\nError Rate = {:0.2f}%'.format((pred != y_test).sum()*100/len(y_test)))\n",
    "print(confusion_matrix (y_test,pred))"
   ]
  },
  {
   "cell_type": "code",
   "execution_count": 26,
   "metadata": {},
   "outputs": [
    {
     "data": {
      "text/plain": [
       "<matplotlib.axes._subplots.AxesSubplot at 0x1a1464ef28>"
      ]
     },
     "execution_count": 26,
     "metadata": {},
     "output_type": "execute_result"
    },
    {
     "data": {
      "image/png": "[encoded data removed]",
      "text/plain": [
       "<Figure size 432x288 with 1 Axes>"
      ]
     },
     "metadata": {},
     "output_type": "display_data"
    }
   ],
   "source": [
    "# Decision tree best predictors\n",
    "feat_importances1 = pd.Series(dt.feature_importances_, index=df1.columns[1:54])\n",
    "feat_importances1.nlargest(20).plot(kind='barh')"
   ]
  },
  {
   "cell_type": "code",
   "execution_count": 27,
   "metadata": {},
   "outputs": [
    {
     "data": {
      "text/plain": [
       "<matplotlib.axes._subplots.AxesSubplot at 0x1a100500b8>"
      ]
     },
     "execution_count": 27,
     "metadata": {},
     "output_type": "execute_result"
    },
    {
     "data": {
      "image/png": "[encoded data removed]",
      "text/plain": [
       "<Figure size 432x288 with 1 Axes>"
      ]
     },
     "metadata": {},
     "output_type": "display_data"
    }
   ],
   "source": [
    "# Random forest best predictors\n",
    "feat_importances = pd.Series(rf.feature_importances_, index=df1.columns[1:54])\n",
    "feat_importances.nlargest(20).plot(kind='barh')"
   ]
  },
  {
   "cell_type": "code",
   "execution_count": 28,
   "metadata": {},
   "outputs": [
    {
     "data": {
      "text/plain": [
       "<matplotlib.axes._subplots.AxesSubplot at 0x1a10067240>"
      ]
     },
     "execution_count": 28,
     "metadata": {},
     "output_type": "execute_result"
    },
    {
     "data": {
      "image/png": "[encoded data removed]",
      "text/plain": [
       "<Figure size 432x288 with 1 Axes>"
      ]
     },
     "metadata": {},
     "output_type": "display_data"
    }
   ],
   "source": [
    "# Random forest best predictors\n",
    "feat_importances = pd.Series(rf.feature_importances_, index=df1.columns[1:54])\n",
    "feat_importances.nlargest(7).plot(kind='barh')"
   ]
  },
  {
   "cell_type": "code",
   "execution_count": 29,
   "metadata": {
    "scrolled": true
   },
   "outputs": [
    {
     "data": {
      "text/plain": [
       "drd.00       0.091946\n",
       "drd          0.089909\n",
       "for60per     0.083511\n",
       "dfedge.60    0.077232\n",
       "dmcity       0.077051\n",
       "slope        0.064077\n",
       "seg.area     0.037685\n",
       "dtype: float64"
      ]
     },
     "execution_count": 29,
     "metadata": {},
     "output_type": "execute_result"
    }
   ],
   "source": [
    "# Best 7 predictors of RF\n",
    "feat_importances.nlargest(7)"
   ]
  },
  {
   "cell_type": "markdown",
   "metadata": {},
   "source": [
    "***Prediction of 1980 with the best 7 predictors ***\n"
   ]
  },
  {
   "cell_type": "code",
   "execution_count": 30,
   "metadata": {},
   "outputs": [
    {
     "data": {
      "text/plain": [
       "(39778, 7)"
      ]
     },
     "execution_count": 30,
     "metadata": {},
     "output_type": "execute_result"
    }
   ],
   "source": [
    "# New data set that only contains best predictive variables from 1960\n",
    "new_df1 = df1[['drd.00','drd','dfedge.60','for60per','dmcity','seg.area','slope']].copy()\n",
    "new_df1[:4]\n",
    "new_df1.shape"
   ]
  },
  {
   "cell_type": "code",
   "execution_count": 31,
   "metadata": {},
   "outputs": [
    {
     "name": "stdout",
     "output_type": "stream",
     "text": [
      "GaussianNB -- Number of mislabeled points out of total 13127 points: 3937\n",
      "QDA -- Number of mislabeled points out of total 13127 points: 3933\n",
      "LDA -- Number of mislabeled points out of total 13127 points: 3562\n",
      "kNN -- Number of mislabeled points out of total 13127 points: 3010\n",
      "Decision Tree -- Number of mislabeled points out of total 13127 points: 3426\n",
      "Random Forest -- Number of mislabeled points out of total 13127 points: 2869\n",
      "\n"
     ]
    }
   ],
   "source": [
    "X11 = new_df1.values\n",
    "# Prediction of 1980 using 1960\n",
    "XX_train, XX_test, yy_train, yy_test = train_test_split(X11[:,1:9], X2[:,0], test_size=0.33,random_state=1)\n",
    "                                                           \n",
    "\n",
    "\n",
    "for name, classifier in zip(names, classifiers):\n",
    "    classifier.fit(XX_train, yy_train)\n",
    "    pred4 = classifier.predict(XX_test)\n",
    "    print('{} -- Number of mislabeled points out of total {} points: {}'.format(name, len(yy_test), (pred4 != yy_test).sum()))\n",
    "print()"
   ]
  },
  {
   "cell_type": "code",
   "execution_count": 32,
   "metadata": {},
   "outputs": [
    {
     "name": "stdout",
     "output_type": "stream",
     "text": [
      "Predicted\n",
      "Error Rate = 21.86%\n"
     ]
    }
   ],
   "source": [
    "print ('Predicted\\nError Rate = {:0.2f}%'.format((pred4 != yy_test).sum()*100/len(yy_test)))"
   ]
  },
  {
   "cell_type": "code",
   "execution_count": 33,
   "metadata": {},
   "outputs": [
    {
     "data": {
      "text/plain": [
       "array([[6212, 1004],\n",
       "       [1865, 4046]])"
      ]
     },
     "execution_count": 33,
     "metadata": {},
     "output_type": "execute_result"
    }
   ],
   "source": [
    "# Confusion matrix\n",
    "\n",
    "confusion_matrix (yy_test,pred4)\n"
   ]
  },
  {
   "cell_type": "markdown",
   "metadata": {},
   "source": [
    "*Prediction of 2000 using the previous model*"
   ]
  },
  {
   "cell_type": "code",
   "execution_count": 34,
   "metadata": {},
   "outputs": [
    {
     "name": "stdout",
     "output_type": "stream",
     "text": [
      "GaussianNB -- Number of mislabeled points out of total 39778 points: 13506\n",
      "QDA -- Number of mislabeled points out of total 39778 points: 14725\n"
     ]
    },
    {
     "name": "stderr",
     "output_type": "stream",
     "text": [
      "/Users/polina/anaconda3/lib/python3.6/site-packages/sklearn/discriminant_analysis.py:682: UserWarning: Variables are collinear\n",
      "  warnings.warn(\"Variables are collinear\")\n"
     ]
    },
    {
     "name": "stdout",
     "output_type": "stream",
     "text": [
      "LDA -- Number of mislabeled points out of total 39778 points: 10221\n"
     ]
    },
    {
     "name": "stderr",
     "output_type": "stream",
     "text": [
      "/Users/polina/anaconda3/lib/python3.6/site-packages/sklearn/discriminant_analysis.py:388: UserWarning: Variables are collinear.\n",
      "  warnings.warn(\"Variables are collinear.\")\n"
     ]
    },
    {
     "name": "stdout",
     "output_type": "stream",
     "text": [
      "kNN -- Number of mislabeled points out of total 39778 points: 8587\n",
      "Decision Tree -- Number of mislabeled points out of total 39778 points: 8706\n",
      "Random Forest -- Number of mislabeled points out of total 39778 points: 7517\n",
      "\n"
     ]
    }
   ],
   "source": [
    "# Prediction of 2000 using 1980                                                        \n",
    "X60_train = X1[:,1:54]\n",
    "Y80_train = X2[:,0]\n",
    "X80_test = X2[:,1:54]\n",
    "Y2000_test = X3[:,0]\n",
    "\n",
    "for name, classifier in zip(names, classifiers):\n",
    "    classifier.fit(X60_train, Y80_train)\n",
    "    pred2000 = classifier.predict(X80_test)\n",
    "    print('{} -- Number of mislabeled points out of total {} points: {}'.format(name, len(Y2000_test), (pred2000 != Y2000_test).sum()))\n",
    "print()"
   ]
  },
  {
   "cell_type": "code",
   "execution_count": 35,
   "metadata": {},
   "outputs": [
    {
     "data": {
      "text/plain": [
       "array([[18833,  2267],\n",
       "       [ 5250, 13428]])"
      ]
     },
     "execution_count": 35,
     "metadata": {},
     "output_type": "execute_result"
    }
   ],
   "source": [
    "confusion_matrix (Y2000_test,pred2000)"
   ]
  },
  {
   "cell_type": "code",
   "execution_count": 36,
   "metadata": {},
   "outputs": [
    {
     "name": "stdout",
     "output_type": "stream",
     "text": [
      "Predicted\n",
      "Error Rate = 18.90%\n"
     ]
    }
   ],
   "source": [
    "print ('Predicted\\nError Rate = {:0.2f}%'.format((pred2000 != Y2000_test).sum()*100/len(Y2000_test)))"
   ]
  },
  {
   "cell_type": "markdown",
   "metadata": {},
   "source": [
    "*ROC Curve*"
   ]
  },
  {
   "cell_type": "code",
   "execution_count": 37,
   "metadata": {},
   "outputs": [
    {
     "name": "stdout",
     "output_type": "stream",
     "text": [
      "(55, 55)\n",
      "(7, 7)\n"
     ]
    }
   ],
   "source": [
    "import random\n",
    "random.seed(123)\n",
    "random.shuffle(X1)\n",
    "random.shuffle(X11)\n",
    "\n",
    "XX1 = X1[:int(len(X1.T))]\n",
    "XX2 = X11[:int(len(X11.T))]   \n",
    "print(XX1.shape)\n",
    "print(XX2.shape)"
   ]
  },
  {
   "cell_type": "code",
   "execution_count": 38,
   "metadata": {},
   "outputs": [
    {
     "data": {
      "text/plain": [
       "Text(0.5,1,'Covariance Matrix for 1960')"
      ]
     },
     "execution_count": 38,
     "metadata": {},
     "output_type": "execute_result"
    },
    {
     "data": {
      "image/png": "[encoded data removed]",
      "text/plain": [
       "<Figure size 720x360 with 1 Axes>"
      ]
     },
     "metadata": {},
     "output_type": "display_data"
    }
   ],
   "source": [
    "#plot orig and new covariance matrices(estimate w/o norm)\n",
    "figure(figsize=(10,5))\n",
    "subplot(121);imshow(XX1.dot(XX1.T),interpolation = 'none',cmap = 'viridis');\n",
    "plt.title('Covariance Matrix for 1960')"
   ]
  },
  {
   "cell_type": "code",
   "execution_count": 39,
   "metadata": {},
   "outputs": [
    {
     "data": {
      "text/plain": [
       "Text(0.5,1,'Covariance Matrix for best 7 Predictors')"
      ]
     },
     "execution_count": 39,
     "metadata": {},
     "output_type": "execute_result"
    },
    {
     "data": {
      "image/png": "[encoded data removed]",
      "text/plain": [
       "<Figure size 720x360 with 1 Axes>"
      ]
     },
     "metadata": {},
     "output_type": "display_data"
    }
   ],
   "source": [
    "figure(figsize=(10,5))\n",
    "subplot(122);imshow(XX2.dot(XX2.T),interpolation = 'none',cmap = 'viridis');\n",
    "plt.title('Covariance Matrix for best 7 Predictors')"
   ]
  },
  {
   "cell_type": "code",
   "execution_count": 40,
   "metadata": {},
   "outputs": [
    {
     "data": {
      "image/png": "[encoded data removed]",
      "text/plain": [
       "<Figure size 432x288 with 1 Axes>"
      ]
     },
     "metadata": {},
     "output_type": "display_data"
    }
   ],
   "source": [
    "from sklearn.metrics import roc_curve, auc\n",
    "fpr, tpr, thresholds = roc_curve(pred2000, Y2000_test)\n",
    "roc_auc = auc(fpr, tpr)\n",
    "\n",
    "plt.figure()\n",
    "lw = 2\n",
    "plt.plot(fpr, tpr, color='darkorange', lw=1, label='ROC curve (area = %0.2f)' % roc_auc)\n",
    "plt.plot([0, 1], [0, 1], color='navy', lw=lw, linestyle='--')\n",
    "plt.xlim([0.0, 1.0])\n",
    "plt.ylim([0.0, 1.05])\n",
    "plt.xlabel('False Positive Rate')\n",
    "plt.ylabel('True Positive Rate')\n",
    "plt.title('Receiver operating characteristic for 2000 forestation prediction')\n",
    "plt.legend(loc=\"lower right\")\n",
    "plt.show()"
   ]
  }
 ],
 "metadata": {
  "kernelspec": {
   "display_name": "Python 3",
   "language": "python",
   "name": "python3"
  },
  "language_info": {
   "codemirror_mode": {
    "name": "ipython",
    "version": 3
   },
   "file_extension": ".py",
   "mimetype": "text/x-python",
   "name": "python",
   "nbconvert_exporter": "python",
   "pygments_lexer": "ipython3",
   "version": "3.6.5"
  }
 },
 "nbformat": 4,
 "nbformat_minor": 2
}
